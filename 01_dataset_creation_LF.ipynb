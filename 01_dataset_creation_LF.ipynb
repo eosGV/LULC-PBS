{
  "nbformat": 4,
  "nbformat_minor": 0,
  "metadata": {
    "colab": {
      "provenance": [],
      "toc_visible": true,
      "authorship_tag": "ABX9TyNkuZWlrsQEimy85KlNCF83",
      "include_colab_link": true
    },
    "kernelspec": {
      "name": "python3",
      "display_name": "Python 3"
    },
    "language_info": {
      "name": "python"
    }
  },
  "cells": [
    {
      "cell_type": "markdown",
      "metadata": {
        "id": "view-in-github",
        "colab_type": "text"
      },
      "source": [
        "<a href=\"https://colab.research.google.com/github/eosGV/LULC-PBS/blob/main/01_dataset_creation_LF.ipynb\" target=\"_parent\"><img src=\"https://colab.research.google.com/assets/colab-badge.svg\" alt=\"Open In Colab\"/></a>"
      ]
    },
    {
      "cell_type": "markdown",
      "source": [
        "# **Creation of datasets to detect live fences**\n",
        "\n",
        "\n",
        "\n",
        "\n"
      ],
      "metadata": {
        "id": "_-eB420WZ07F"
      }
    },
    {
      "cell_type": "markdown",
      "source": [
        "The proposal is to obtain one dataset for the project study area but with different setting features such as image size and spatial resolution.\n",
        "\n",
        "![image.png](data:image/png;base64,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)"
      ],
      "metadata": {
        "id": "MYU6gsFIbgnR"
      }
    },
    {
      "cell_type": "markdown",
      "source": [
        "### **Original Dataset**"
      ],
      "metadata": {
        "id": "rXilc734crVU"
      }
    },
    {
      "cell_type": "markdown",
      "source": [
        "\n",
        "\n",
        "*   Dataset Planet - 64 x 64\n",
        "\n",
        "\n"
      ],
      "metadata": {
        "id": "VNaIzpNtcaJi"
      }
    },
    {
      "cell_type": "markdown",
      "source": [
        "\n",
        "\n",
        "*   Dataset Planet - 128 x 128\n",
        "\n",
        "\n"
      ],
      "metadata": {
        "id": "wTYnAG5QdYb1"
      }
    },
    {
      "cell_type": "markdown",
      "source": [
        "*   Dataset VHR - 64 x 64\n"
      ],
      "metadata": {
        "id": "jBV0VxfSdh6B"
      }
    },
    {
      "cell_type": "markdown",
      "source": [
        "*   Dataset VHR - 128 x 128\n"
      ],
      "metadata": {
        "id": "NYvkK8h_dpT-"
      }
    },
    {
      "cell_type": "markdown",
      "source": [
        "### **Balancing dataset - class 2**"
      ],
      "metadata": {
        "id": "HRZjDIf7dywo"
      }
    },
    {
      "cell_type": "markdown",
      "source": [
        "* Dataset Planet - 128 x 128 - C1 = C2"
      ],
      "metadata": {
        "id": "JLcFHUvDeMui"
      }
    },
    {
      "cell_type": "markdown",
      "source": [
        "* Dataset Planet - 128 x 128 - C2 50%"
      ],
      "metadata": {
        "id": "7os1rn3ddwcP"
      }
    },
    {
      "cell_type": "markdown",
      "source": [
        "* Dataset Planet - 128 x 128 - C2 75%"
      ],
      "metadata": {
        "id": "Xr9Rzh2neKGy"
      }
    },
    {
      "cell_type": "code",
      "execution_count": null,
      "metadata": {
        "id": "xRqrWGKBZpRg"
      },
      "outputs": [],
      "source": []
    }
  ]
}